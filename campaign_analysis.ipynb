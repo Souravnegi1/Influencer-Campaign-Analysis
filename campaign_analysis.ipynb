
{
 "cells": [
  {
   "cell_type": "markdown",
   "metadata": {},
   "source": [
    "# 📊 Influencer Marketing Campaign Analysis\n",
    "Analyzing influencer performance based on engagement, reach, conversions, and ROI."
   ]
  },
  {
   "cell_type": "code",
   "execution_count": null,
   "metadata": {},
   "outputs": [],
   "source": [
    "import pandas as pd\n",
    "import matplotlib.pyplot as plt\n",
    "\n",
    "# Load dataset\n",
    "df = pd.read_csv('influencer_data.csv')\n",
    "df.head()"
   ]
  },
  {
   "cell_type": "code",
   "execution_count": null,
   "metadata": {},
   "outputs": [],
   "source": [
    "# Calculate ROI and other metrics\n",
    "df['Engagement Rate'] = df['Engagement Rate (%)'] / 100\n",
    "df['ROI'] = df['Conversions'] / df['Cost ($)']\n",
    "df.sort_values(by='ROI', ascending=False)"
   ]
  },
  {
   "cell_type": "code",
   "execution_count": null,
   "metadata": {},
   "outputs": [],
   "source": [
    "# Visualize Influencer ROI\n",
    "plt.figure(figsize=(10,6))\n",
    "plt.bar(df['Influencer'], df['ROI'], color='skyblue')\n",
    "plt.title('ROI by Influencer')\n",
    "plt.ylabel('ROI (Conversions per $)')\n",
    "plt.xlabel('Influencer')\n",
    "plt.xticks(rotation=45)\n",
    "plt.tight_layout()\n",
    "plt.savefig('roi_by_influencer.png')\n",
    "plt.show()"
   ]
  }
 ],
 "metadata": {
  "kernelspec": {
   "display_name": "Python 3",
   "language": "python",
   "name": "python3"
  },
  "language_info": {
   "name": "python",
   "version": ""
  }
 },
 "nbformat": 4,
 "nbformat_minor": 2
}
